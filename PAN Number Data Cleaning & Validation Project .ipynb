{
 "cells": [
  {
   "cell_type": "markdown",
   "id": "bc239a14-a368-44e0-a985-3ced938f1f0d",
   "metadata": {},
   "source": [
    "# 1. Import Required Libraries"
   ]
  },
  {
   "cell_type": "code",
   "execution_count": 1,
   "id": "fac805b5-37ad-4eb9-8037-cbe6b726add7",
   "metadata": {},
   "outputs": [],
   "source": [
    "import pandas as pd \n",
    "import re"
   ]
  },
  {
   "cell_type": "markdown",
   "id": "2ede039f-26ac-47db-a34c-92b8071c623b",
   "metadata": {},
   "source": [
    "# 2. Load Dataset"
   ]
  },
  {
   "cell_type": "code",
   "execution_count": 2,
   "id": "1a98cf5d-ea6c-4a85-9ab5-a39d11d9b39a",
   "metadata": {},
   "outputs": [
    {
     "name": "stdout",
     "output_type": "stream",
     "text": [
      "Total records =  10000\n"
     ]
    }
   ],
   "source": [
    "df = pd.read_excel('PAN Number Validation Dataset.xlsx')\n",
    "# print(df.head(10))\n",
    "print('Total records = ',len(df))\n",
    "total_records = len(df)"
   ]
  },
  {
   "cell_type": "code",
   "execution_count": 3,
   "id": "2326b2b0-b1f3-4f16-aac1-346d3f347220",
   "metadata": {},
   "outputs": [
    {
     "data": {
      "text/html": [
       "<div>\n",
       "<style scoped>\n",
       "    .dataframe tbody tr th:only-of-type {\n",
       "        vertical-align: middle;\n",
       "    }\n",
       "\n",
       "    .dataframe tbody tr th {\n",
       "        vertical-align: top;\n",
       "    }\n",
       "\n",
       "    .dataframe thead th {\n",
       "        text-align: right;\n",
       "    }\n",
       "</style>\n",
       "<table border=\"1\" class=\"dataframe\">\n",
       "  <thead>\n",
       "    <tr style=\"text-align: right;\">\n",
       "      <th></th>\n",
       "      <th>Pan_Numbers</th>\n",
       "    </tr>\n",
       "  </thead>\n",
       "  <tbody>\n",
       "    <tr>\n",
       "      <th>0</th>\n",
       "      <td>VGLOD3180G</td>\n",
       "    </tr>\n",
       "    <tr>\n",
       "      <th>1</th>\n",
       "      <td>PHOXD7232L</td>\n",
       "    </tr>\n",
       "    <tr>\n",
       "      <th>2</th>\n",
       "      <td>MGEPH6532A</td>\n",
       "    </tr>\n",
       "    <tr>\n",
       "      <th>3</th>\n",
       "      <td>JJCHK4574O</td>\n",
       "    </tr>\n",
       "    <tr>\n",
       "      <th>4</th>\n",
       "      <td>XTQIJ2330L</td>\n",
       "    </tr>\n",
       "    <tr>\n",
       "      <th>...</th>\n",
       "      <td>...</td>\n",
       "    </tr>\n",
       "    <tr>\n",
       "      <th>9995</th>\n",
       "      <td>TNGUY429!V</td>\n",
       "    </tr>\n",
       "    <tr>\n",
       "      <th>9996</th>\n",
       "      <td>SMMN33673g</td>\n",
       "    </tr>\n",
       "    <tr>\n",
       "      <th>9997</th>\n",
       "      <td>NaN</td>\n",
       "    </tr>\n",
       "    <tr>\n",
       "      <th>9998</th>\n",
       "      <td>RLAI69795t</td>\n",
       "    </tr>\n",
       "    <tr>\n",
       "      <th>9999</th>\n",
       "      <td>YWY2482</td>\n",
       "    </tr>\n",
       "  </tbody>\n",
       "</table>\n",
       "<p>10000 rows × 1 columns</p>\n",
       "</div>"
      ],
      "text/plain": [
       "     Pan_Numbers\n",
       "0     VGLOD3180G\n",
       "1     PHOXD7232L\n",
       "2     MGEPH6532A\n",
       "3     JJCHK4574O\n",
       "4     XTQIJ2330L\n",
       "...          ...\n",
       "9995  TNGUY429!V\n",
       "9996  SMMN33673g\n",
       "9997         NaN\n",
       "9998  RLAI69795t\n",
       "9999     YWY2482\n",
       "\n",
       "[10000 rows x 1 columns]"
      ]
     },
     "execution_count": 3,
     "metadata": {},
     "output_type": "execute_result"
    }
   ],
   "source": [
    "df"
   ]
  },
  {
   "cell_type": "markdown",
   "id": "ecc29abb-31c7-434b-b8d3-f7f65b082d2e",
   "metadata": {},
   "source": [
    "# 3. Data Cleaning and Preprocessing"
   ]
  },
  {
   "cell_type": "markdown",
   "id": "b10b8061-1fd3-44ba-a36c-4ed13091ccd8",
   "metadata": {},
   "source": [
    "## Convert PAN to string, strip spaces, and make uppercase."
   ]
  },
  {
   "cell_type": "code",
   "execution_count": 4,
   "id": "b8658661-6a45-4636-b59c-c845c3942c10",
   "metadata": {},
   "outputs": [],
   "source": [
    "# Data Cleaning\n",
    "df[\"Pan_Numbers\"] = df['Pan_Numbers'].astype('string').str.strip().str.upper()\n",
    "# print(df.head(10)"
   ]
  },
  {
   "cell_type": "code",
   "execution_count": 5,
   "id": "150b4050-bcfc-4e50-8b39-2db48aa7a8bb",
   "metadata": {},
   "outputs": [
    {
     "data": {
      "text/plain": [
       "0    VGLOD3180G\n",
       "1    PHOXD7232L\n",
       "2    MGEPH6532A\n",
       "3    JJCHK4574O\n",
       "4    XTQIJ2330L\n",
       "5    HTJYM3835H\n",
       "6    YQTAP6661X\n",
       "7    HVOFE5635Y\n",
       "8    HYUIJ7902R\n",
       "9    IDSMT3429E\n",
       "Name: Pan_Numbers, dtype: string"
      ]
     },
     "execution_count": 5,
     "metadata": {},
     "output_type": "execute_result"
    }
   ],
   "source": [
    "df[\"Pan_Numbers\"].head(10)"
   ]
  },
  {
   "cell_type": "code",
   "execution_count": 6,
   "id": "2a155fc8-5fe0-4900-84b1-07922b030d34",
   "metadata": {},
   "outputs": [
    {
     "data": {
      "text/plain": [
       "9026"
      ]
     },
     "execution_count": 6,
     "metadata": {},
     "output_type": "execute_result"
    }
   ],
   "source": [
    "df[\"Pan_Numbers\"].nunique()"
   ]
  },
  {
   "cell_type": "markdown",
   "id": "9af8dd09-fa82-4683-84c3-64666948f42d",
   "metadata": {},
   "source": [
    "## Handle missing and blank values."
   ]
  },
  {
   "cell_type": "code",
   "execution_count": 7,
   "id": "8f386700-cb1a-47b9-9b9b-8724026f13e5",
   "metadata": {},
   "outputs": [],
   "source": [
    "# Replace empty strings with NA and drop missing values\n",
    "df = df.replace({\"Pan_Numbers\": ''}, pd.NA).dropna(subset=\"Pan_Numbers\")"
   ]
  },
  {
   "cell_type": "code",
   "execution_count": 8,
   "id": "68c3e2f2-b96c-4403-8afd-0f652adad716",
   "metadata": {},
   "outputs": [
    {
     "name": "stdout",
     "output_type": "stream",
     "text": [
      "Total records after cleaning =  9033\n",
      "Unique values =  9025\n"
     ]
    }
   ],
   "source": [
    "print('Total records after cleaning = ', len(df))\n",
    "print('Unique values = ', df[\"Pan_Numbers\"].nunique())"
   ]
  },
  {
   "cell_type": "markdown",
   "id": "a6cbe4e2-784f-4d6e-83fa-c1b871abc9f0",
   "metadata": {},
   "source": [
    "## Drop duplicates"
   ]
  },
  {
   "cell_type": "code",
   "execution_count": 9,
   "id": "4474721c-61e3-43fe-bb99-b86359a7fcbe",
   "metadata": {},
   "outputs": [],
   "source": [
    "df = df.drop_duplicates(subset=\"Pan_Numbers\", keep='first')"
   ]
  },
  {
   "cell_type": "code",
   "execution_count": 10,
   "id": "a03ac6a9-755d-429d-9754-b3269450999d",
   "metadata": {},
   "outputs": [
    {
     "name": "stdout",
     "output_type": "stream",
     "text": [
      "Total records after removing duplicates =  9025\n"
     ]
    }
   ],
   "source": [
    "print('Total records after removing duplicates = ', len(df))"
   ]
  },
  {
   "cell_type": "code",
   "execution_count": 11,
   "id": "737b3770-7020-445f-be68-d1948b667707",
   "metadata": {},
   "outputs": [
    {
     "data": {
      "text/html": [
       "<div>\n",
       "<style scoped>\n",
       "    .dataframe tbody tr th:only-of-type {\n",
       "        vertical-align: middle;\n",
       "    }\n",
       "\n",
       "    .dataframe tbody tr th {\n",
       "        vertical-align: top;\n",
       "    }\n",
       "\n",
       "    .dataframe thead th {\n",
       "        text-align: right;\n",
       "    }\n",
       "</style>\n",
       "<table border=\"1\" class=\"dataframe\">\n",
       "  <thead>\n",
       "    <tr style=\"text-align: right;\">\n",
       "      <th></th>\n",
       "      <th>Pan_Numbers</th>\n",
       "    </tr>\n",
       "  </thead>\n",
       "  <tbody>\n",
       "    <tr>\n",
       "      <th>0</th>\n",
       "      <td>VGLOD3180G</td>\n",
       "    </tr>\n",
       "    <tr>\n",
       "      <th>1</th>\n",
       "      <td>PHOXD7232L</td>\n",
       "    </tr>\n",
       "    <tr>\n",
       "      <th>2</th>\n",
       "      <td>MGEPH6532A</td>\n",
       "    </tr>\n",
       "    <tr>\n",
       "      <th>3</th>\n",
       "      <td>JJCHK4574O</td>\n",
       "    </tr>\n",
       "    <tr>\n",
       "      <th>4</th>\n",
       "      <td>XTQIJ2330L</td>\n",
       "    </tr>\n",
       "    <tr>\n",
       "      <th>5</th>\n",
       "      <td>HTJYM3835H</td>\n",
       "    </tr>\n",
       "    <tr>\n",
       "      <th>6</th>\n",
       "      <td>YQTAP6661X</td>\n",
       "    </tr>\n",
       "    <tr>\n",
       "      <th>7</th>\n",
       "      <td>HVOFE5635Y</td>\n",
       "    </tr>\n",
       "    <tr>\n",
       "      <th>8</th>\n",
       "      <td>HYUIJ7902R</td>\n",
       "    </tr>\n",
       "    <tr>\n",
       "      <th>9</th>\n",
       "      <td>IDSMT3429E</td>\n",
       "    </tr>\n",
       "  </tbody>\n",
       "</table>\n",
       "</div>"
      ],
      "text/plain": [
       "  Pan_Numbers\n",
       "0  VGLOD3180G\n",
       "1  PHOXD7232L\n",
       "2  MGEPH6532A\n",
       "3  JJCHK4574O\n",
       "4  XTQIJ2330L\n",
       "5  HTJYM3835H\n",
       "6  YQTAP6661X\n",
       "7  HVOFE5635Y\n",
       "8  HYUIJ7902R\n",
       "9  IDSMT3429E"
      ]
     },
     "execution_count": 11,
     "metadata": {},
     "output_type": "execute_result"
    }
   ],
   "source": [
    "df.head(10)"
   ]
  },
  {
   "cell_type": "markdown",
   "id": "6527093c-06d7-49f3-90d6-9af5ddba2d5f",
   "metadata": {},
   "source": [
    "## 4. Define Validation Functions\n",
    "- **Check for adjacent repetition of characters**\n",
    "- **Check for sequential characters**\n",
    "- **Validate PAN format using Regex**"
   ]
  },
  {
   "cell_type": "code",
   "execution_count": 12,
   "id": "4431390d-e5d4-43b9-bd32-4585bf9c53ad",
   "metadata": {},
   "outputs": [],
   "source": [
    "def has_adjacent_repitition(pan):\n",
    "    return any(pan[i] == pan[i+1] for i in range(len(pan)-1))\n",
    "\n",
    "def is_sequencial(pan):\n",
    "    return all(ord(pan[i+1]) - ord(pan[i]) == 1 for i in range(len(pan)-1))\n",
    "\n",
    "def is_valid_pan(pan):\n",
    "    if len(pan) != 10:\n",
    "        return False \n",
    "    \n",
    "    if not re.match(r'^[A-Z]{5}[0-9]{4}[A-Z]$', pan):\n",
    "        return False \n",
    "    \n",
    "    if has_adjacent_repitition(pan):\n",
    "        return False \n",
    "    \n",
    "    if is_sequencial(pan):\n",
    "        return False\n",
    "    \n",
    "    return True"
   ]
  },
  {
   "cell_type": "markdown",
   "id": "2fdac1d6-11aa-4c06-bde9-b5b739a59e84",
   "metadata": {},
   "source": [
    "## 5. Apply Validation on Dataset"
   ]
  },
  {
   "cell_type": "code",
   "execution_count": 13,
   "id": "8e5eeac3-d943-478c-acdc-69a89fd2267a",
   "metadata": {},
   "outputs": [
    {
     "data": {
      "text/html": [
       "<div>\n",
       "<style scoped>\n",
       "    .dataframe tbody tr th:only-of-type {\n",
       "        vertical-align: middle;\n",
       "    }\n",
       "\n",
       "    .dataframe tbody tr th {\n",
       "        vertical-align: top;\n",
       "    }\n",
       "\n",
       "    .dataframe thead th {\n",
       "        text-align: right;\n",
       "    }\n",
       "</style>\n",
       "<table border=\"1\" class=\"dataframe\">\n",
       "  <thead>\n",
       "    <tr style=\"text-align: right;\">\n",
       "      <th></th>\n",
       "      <th>Pan_Numbers</th>\n",
       "      <th>Status</th>\n",
       "    </tr>\n",
       "  </thead>\n",
       "  <tbody>\n",
       "    <tr>\n",
       "      <th>0</th>\n",
       "      <td>VGLOD3180G</td>\n",
       "      <td>Valid</td>\n",
       "    </tr>\n",
       "    <tr>\n",
       "      <th>1</th>\n",
       "      <td>PHOXD7232L</td>\n",
       "      <td>Valid</td>\n",
       "    </tr>\n",
       "    <tr>\n",
       "      <th>2</th>\n",
       "      <td>MGEPH6532A</td>\n",
       "      <td>Valid</td>\n",
       "    </tr>\n",
       "    <tr>\n",
       "      <th>3</th>\n",
       "      <td>JJCHK4574O</td>\n",
       "      <td>Invalid</td>\n",
       "    </tr>\n",
       "    <tr>\n",
       "      <th>4</th>\n",
       "      <td>XTQIJ2330L</td>\n",
       "      <td>Invalid</td>\n",
       "    </tr>\n",
       "    <tr>\n",
       "      <th>5</th>\n",
       "      <td>HTJYM3835H</td>\n",
       "      <td>Valid</td>\n",
       "    </tr>\n",
       "    <tr>\n",
       "      <th>6</th>\n",
       "      <td>YQTAP6661X</td>\n",
       "      <td>Invalid</td>\n",
       "    </tr>\n",
       "    <tr>\n",
       "      <th>7</th>\n",
       "      <td>HVOFE5635Y</td>\n",
       "      <td>Valid</td>\n",
       "    </tr>\n",
       "    <tr>\n",
       "      <th>8</th>\n",
       "      <td>HYUIJ7902R</td>\n",
       "      <td>Valid</td>\n",
       "    </tr>\n",
       "    <tr>\n",
       "      <th>9</th>\n",
       "      <td>IDSMT3429E</td>\n",
       "      <td>Valid</td>\n",
       "    </tr>\n",
       "  </tbody>\n",
       "</table>\n",
       "</div>"
      ],
      "text/plain": [
       "  Pan_Numbers   Status\n",
       "0  VGLOD3180G    Valid\n",
       "1  PHOXD7232L    Valid\n",
       "2  MGEPH6532A    Valid\n",
       "3  JJCHK4574O  Invalid\n",
       "4  XTQIJ2330L  Invalid\n",
       "5  HTJYM3835H    Valid\n",
       "6  YQTAP6661X  Invalid\n",
       "7  HVOFE5635Y    Valid\n",
       "8  HYUIJ7902R    Valid\n",
       "9  IDSMT3429E    Valid"
      ]
     },
     "execution_count": 13,
     "metadata": {},
     "output_type": "execute_result"
    }
   ],
   "source": [
    "df[\"Status\"] = df[\"Pan_Numbers\"].apply(lambda x: \"Valid\" if is_valid_pan(x) else \"Invalid\")\n",
    "\n",
    "df.head(10)"
   ]
  },
  {
   "cell_type": "markdown",
   "id": "baab7f1e-8608-4a50-bccf-4f4cf0f410d4",
   "metadata": {},
   "source": [
    "## 6. Summary of Results"
   ]
  },
  {
   "cell_type": "code",
   "execution_count": 14,
   "id": "900293cb-7eae-4665-a288-bdc3dd4601a8",
   "metadata": {},
   "outputs": [
    {
     "name": "stdout",
     "output_type": "stream",
     "text": [
      "Total records =  10000\n",
      "Valid =  3193\n",
      "Invalid =  5832\n",
      "Missing =  975\n"
     ]
    },
    {
     "data": {
      "text/html": [
       "<div>\n",
       "<style scoped>\n",
       "    .dataframe tbody tr th:only-of-type {\n",
       "        vertical-align: middle;\n",
       "    }\n",
       "\n",
       "    .dataframe tbody tr th {\n",
       "        vertical-align: top;\n",
       "    }\n",
       "\n",
       "    .dataframe thead th {\n",
       "        text-align: right;\n",
       "    }\n",
       "</style>\n",
       "<table border=\"1\" class=\"dataframe\">\n",
       "  <thead>\n",
       "    <tr style=\"text-align: right;\">\n",
       "      <th></th>\n",
       "      <th>TOTAL PROCESSED RECORDS</th>\n",
       "      <th>TOTAL VALID COUNT</th>\n",
       "      <th>TOTAL INVALID COUNT</th>\n",
       "      <th>TOTAL MISSING PANS</th>\n",
       "    </tr>\n",
       "  </thead>\n",
       "  <tbody>\n",
       "    <tr>\n",
       "      <th>0</th>\n",
       "      <td>10000</td>\n",
       "      <td>3193</td>\n",
       "      <td>5832</td>\n",
       "      <td>975</td>\n",
       "    </tr>\n",
       "  </tbody>\n",
       "</table>\n",
       "</div>"
      ],
      "text/plain": [
       "   TOTAL PROCESSED RECORDS  TOTAL VALID COUNT  TOTAL INVALID COUNT  \\\n",
       "0                    10000               3193                 5832   \n",
       "\n",
       "   TOTAL MISSING PANS  \n",
       "0                 975  "
      ]
     },
     "execution_count": 14,
     "metadata": {},
     "output_type": "execute_result"
    }
   ],
   "source": [
    "valid_cnt = (df[\"Status\"]=='Valid').sum()\n",
    "invalid_cnt = (df[\"Status\"]=='Invalid').sum()\n",
    "missing_cnt = total_records - (valid_cnt + invalid_cnt)\n",
    "\n",
    "print('Total records = ', total_records)\n",
    "print('Valid = ', valid_cnt)\n",
    "print('Invalid = ', invalid_cnt)\n",
    "print('Missing = ', missing_cnt)\n",
    "\n",
    "df_summary = pd.DataFrame({\n",
    "    \"TOTAL PROCESSED RECORDS\": [total_records],\n",
    "    \"TOTAL VALID COUNT\": [valid_cnt],\n",
    "    \"TOTAL INVALID COUNT\": [invalid_cnt],\n",
    "    \"TOTAL MISSING PANS\": [missing_cnt]\n",
    "})\n",
    "\n",
    "df_summary"
   ]
  },
  {
   "cell_type": "markdown",
   "id": "2f18dae1-f60d-4342-8527-5e3cf94f30ed",
   "metadata": {},
   "source": [
    "## 7. Export Results to Excel\n",
    "- **Sheet 1:** PAN Validations  \n",
    "- **Sheet 2:** Summary Report"
   ]
  },
  {
   "cell_type": "code",
   "execution_count": 15,
   "id": "003617a5-bad5-4324-8229-a9176023b889",
   "metadata": {},
   "outputs": [],
   "source": [
    "with pd.ExcelWriter(\"PAN VALIDATION RESULT.xlsx\") as writer:\n",
    "    df.to_excel(writer, sheet_name=\"PAN Validations\", index=False)\n",
    "    df_summary.to_excel(writer, sheet_name=\"SUMMARY\", index=False)"
   ]
  },
  {
   "cell_type": "markdown",
   "id": "0ae17292-b139-4cc2-8f6c-7ac735fabeb8",
   "metadata": {},
   "source": [
    "## 8. Visualization of PAN Validation Results"
   ]
  },
  {
   "cell_type": "code",
   "execution_count": 23,
   "id": "d494b106-a8bd-4089-88c4-1ca1df8e5245",
   "metadata": {},
   "outputs": [
    {
     "data": {
      "image/png": "[encoded data removed]",
      "text/plain": [
       "<Figure size 1200x500 with 2 Axes>"
      ]
     },
     "metadata": {},
     "output_type": "display_data"
    }
   ],
   "source": [
    "import matplotlib.pyplot as plt\n",
    "\n",
    "# Data\n",
    "labels = ['Valid', 'Invalid', 'Missing']\n",
    "values = [valid_cnt, invalid_cnt, missing_cnt]\n",
    "\n",
    "# Create figure\n",
    "plt.figure(figsize=(12,5))\n",
    "\n",
    "# --- Bar Chart ---\n",
    "plt.subplot(1,2,1)\n",
    "plt.bar(labels, values, color=['green','red','orange'])\n",
    "plt.title(\"PAN Validation Results - Bar Chart\")\n",
    "plt.xlabel(\"Status\")\n",
    "plt.ylabel(\"Count\")\n",
    "\n",
    "# --- Pie Chart ---\n",
    "plt.subplot(1,2,2)\n",
    "plt.pie(values, labels=labels, autopct='%1.1f%%', startangle=90, colors=['blue','red','black'])\n",
    "plt.title(\"PAN Validation Results - Pie Chart\")\n",
    "\n",
    "plt.tight_layout()\n",
    "plt.show()"
   ]
  },
  {
   "cell_type": "code",
   "execution_count": null,
   "id": "54f3e563-b925-4e0c-91b7-a09b6e48a543",
   "metadata": {},
   "outputs": [],
   "source": []
  },
  {
   "cell_type": "code",
   "execution_count": null,
   "id": "d13a0108-9d91-4dea-99f4-94e4d84df5dd",
   "metadata": {},
   "outputs": [],
   "source": []
  }
 ],
 "metadata": {
  "kernelspec": {
   "display_name": "Python 3 (ipykernel)",
   "language": "python",
   "name": "python3"
  },
  "language_info": {
   "codemirror_mode": {
    "name": "ipython",
    "version": 3
   },
   "file_extension": ".py",
   "mimetype": "text/x-python",
   "name": "python",
   "nbconvert_exporter": "python",
   "pygments_lexer": "ipython3",
   "version": "3.13.5"
  }
 },
 "nbformat": 4,
 "nbformat_minor": 5
}
